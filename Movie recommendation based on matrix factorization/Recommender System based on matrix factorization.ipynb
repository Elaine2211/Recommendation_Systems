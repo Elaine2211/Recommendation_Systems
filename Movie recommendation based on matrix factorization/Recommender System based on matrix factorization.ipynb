{
 "cells": [
  {
   "cell_type": "code",
   "execution_count": 1,
   "metadata": {},
   "outputs": [],
   "source": [
    "import pandas as pd\n",
    "import os\n",
    "import webbrowser\n",
    "#View data\n",
    "data_table = pd.read_csv('movie_ratings_data_set.csv')\n",
    "#Create a web page view of the data for easy viewing\n",
    "html = data_table[0:500].to_html()\n",
    "#Save the html to a temporary file\n",
    "with open('data.html', 'w') as f:\n",
    "    f.write(html)\n",
    "#Open the web page in web browser\n",
    "full_filename = os.path.abspath('data.html')\n",
    "#webbrowser.open(\"file://{}\".format(full_filename))"
   ]
  },
  {
   "cell_type": "code",
   "execution_count": 2,
   "metadata": {},
   "outputs": [
    {
     "data": {
      "text/plain": [
       "(680, 3)"
      ]
     },
     "execution_count": 2,
     "metadata": {},
     "output_type": "execute_result"
    }
   ],
   "source": [
    "data_table.shape"
   ]
  },
  {
   "cell_type": "code",
   "execution_count": 3,
   "metadata": {},
   "outputs": [
    {
     "data": {
      "text/html": [
       "<div>\n",
       "<style scoped>\n",
       "    .dataframe tbody tr th:only-of-type {\n",
       "        vertical-align: middle;\n",
       "    }\n",
       "\n",
       "    .dataframe tbody tr th {\n",
       "        vertical-align: top;\n",
       "    }\n",
       "\n",
       "    .dataframe thead th {\n",
       "        text-align: right;\n",
       "    }\n",
       "</style>\n",
       "<table border=\"1\" class=\"dataframe\">\n",
       "  <thead>\n",
       "    <tr style=\"text-align: right;\">\n",
       "      <th></th>\n",
       "      <th>user_id</th>\n",
       "      <th>movie_id</th>\n",
       "      <th>value</th>\n",
       "    </tr>\n",
       "  </thead>\n",
       "  <tbody>\n",
       "    <tr>\n",
       "      <th>0</th>\n",
       "      <td>1</td>\n",
       "      <td>28</td>\n",
       "      <td>4</td>\n",
       "    </tr>\n",
       "    <tr>\n",
       "      <th>1</th>\n",
       "      <td>1</td>\n",
       "      <td>26</td>\n",
       "      <td>4</td>\n",
       "    </tr>\n",
       "    <tr>\n",
       "      <th>2</th>\n",
       "      <td>1</td>\n",
       "      <td>9</td>\n",
       "      <td>4</td>\n",
       "    </tr>\n",
       "    <tr>\n",
       "      <th>3</th>\n",
       "      <td>1</td>\n",
       "      <td>1</td>\n",
       "      <td>4</td>\n",
       "    </tr>\n",
       "    <tr>\n",
       "      <th>4</th>\n",
       "      <td>1</td>\n",
       "      <td>14</td>\n",
       "      <td>4</td>\n",
       "    </tr>\n",
       "  </tbody>\n",
       "</table>\n",
       "</div>"
      ],
      "text/plain": [
       "   user_id  movie_id  value\n",
       "0        1        28      4\n",
       "1        1        26      4\n",
       "2        1         9      4\n",
       "3        1         1      4\n",
       "4        1        14      4"
      ]
     },
     "execution_count": 3,
     "metadata": {},
     "output_type": "execute_result"
    }
   ],
   "source": [
    "data_table.head()"
   ]
  },
  {
   "cell_type": "code",
   "execution_count": 4,
   "metadata": {},
   "outputs": [],
   "source": [
    "#Movie titles and genres\n",
    "data_movie = pd.read_csv('movies.csv',index_col='movie_id')\n",
    "#Create a web page view of the data for easy viewing\n",
    "html = data_movie[0:500].to_html()\n",
    "#Save the html to a temporary file\n",
    "with open('data.html', 'w') as f:\n",
    "    f.write(html)\n",
    "#Open the web page in web browser\n",
    "full_filename = os.path.abspath('data.html')\n",
    "#webbrowser.open(\"file://{}\".format(full_filename))"
   ]
  },
  {
   "cell_type": "code",
   "execution_count": 5,
   "metadata": {},
   "outputs": [
    {
     "data": {
      "text/html": [
       "<div>\n",
       "<style scoped>\n",
       "    .dataframe tbody tr th:only-of-type {\n",
       "        vertical-align: middle;\n",
       "    }\n",
       "\n",
       "    .dataframe tbody tr th {\n",
       "        vertical-align: top;\n",
       "    }\n",
       "\n",
       "    .dataframe thead th {\n",
       "        text-align: right;\n",
       "    }\n",
       "</style>\n",
       "<table border=\"1\" class=\"dataframe\">\n",
       "  <thead>\n",
       "    <tr style=\"text-align: right;\">\n",
       "      <th></th>\n",
       "      <th>title</th>\n",
       "      <th>genre</th>\n",
       "    </tr>\n",
       "    <tr>\n",
       "      <th>movie_id</th>\n",
       "      <th></th>\n",
       "      <th></th>\n",
       "    </tr>\n",
       "  </thead>\n",
       "  <tbody>\n",
       "    <tr>\n",
       "      <th>1</th>\n",
       "      <td>The Sheriff 1</td>\n",
       "      <td>crime drama, western</td>\n",
       "    </tr>\n",
       "    <tr>\n",
       "      <th>2</th>\n",
       "      <td>The Big City Judge 1</td>\n",
       "      <td>legal drama</td>\n",
       "    </tr>\n",
       "    <tr>\n",
       "      <th>3</th>\n",
       "      <td>The Sheriff 2</td>\n",
       "      <td>crime drama, western</td>\n",
       "    </tr>\n",
       "    <tr>\n",
       "      <th>4</th>\n",
       "      <td>Just a Regular Family</td>\n",
       "      <td>reality</td>\n",
       "    </tr>\n",
       "    <tr>\n",
       "      <th>5</th>\n",
       "      <td>The Big City Judge 2</td>\n",
       "      <td>legal drama</td>\n",
       "    </tr>\n",
       "  </tbody>\n",
       "</table>\n",
       "</div>"
      ],
      "text/plain": [
       "                          title                 genre\n",
       "movie_id                                             \n",
       "1                 The Sheriff 1  crime drama, western\n",
       "2          The Big City Judge 1           legal drama\n",
       "3                 The Sheriff 2  crime drama, western\n",
       "4         Just a Regular Family               reality\n",
       "5          The Big City Judge 2           legal drama"
      ]
     },
     "execution_count": 5,
     "metadata": {},
     "output_type": "execute_result"
    }
   ],
   "source": [
    "data_movie.head()"
   ]
  },
  {
   "cell_type": "code",
   "execution_count": 6,
   "metadata": {},
   "outputs": [],
   "source": [
    "#Create movie rating matrix\n",
    "import numpy as np\n",
    "df = pd.read_csv('movie_ratings_data_set.csv')\n",
    "ratings_df = pd.pivot_table(df, index='user_id', columns='movie_id',aggfunc=np.max)\n",
    "html = ratings_df.to_html(na_rep=\"\")\n",
    "with open('review_matrix.html','w') as f:\n",
    "    f.write(html)\n",
    "#Open the web page in web browser\n",
    "full_filename = os.path.abspath('review_matrix.html')\n",
    "#webbrowser.open(\"file://{}\".format(full_filename))"
   ]
  },
  {
   "cell_type": "code",
   "execution_count": 7,
   "metadata": {},
   "outputs": [],
   "source": [
    "#Save the review matrix as csv\n",
    "ratings_df.to_csv('review_matrix.csv', na_rep ='')"
   ]
  },
  {
   "cell_type": "code",
   "execution_count": 8,
   "metadata": {},
   "outputs": [],
   "source": [
    "#Define functions for further usage\n",
    "import numpy as np\n",
    "from scipy.optimize import fmin_cg\n",
    "\n",
    "\n",
    "def normalize_ratings(ratings):\n",
    "    \"\"\"\n",
    "    Given an array of user ratings, subtract the mean of each product's ratings\n",
    "    :param ratings: 2d array of user ratings\n",
    "    :return: (normalized ratings array, the calculated means)\n",
    "    \"\"\"\n",
    "    mean_ratings = np.nanmean(ratings, axis=0)\n",
    "    return ratings - mean_ratings, mean_ratings\n",
    "\n",
    "\n",
    "def cost(X, *args):\n",
    "    \"\"\"\n",
    "    Cost function for low rank matrix factorization\n",
    "    :param X: The matrices being factored (P and Q) rolled up as a contiguous array\n",
    "    :param args: Array containing (num_users, num_products, num_features, ratings, mask, regularization_amount)\n",
    "    :return: The cost with the current P and Q matrices\n",
    "    \"\"\"\n",
    "    num_users, num_products, num_features, ratings, mask, regularization_amount = args\n",
    "\n",
    "    # Unroll P and Q\n",
    "    P = X[0:(num_users * num_features)].reshape(num_users, num_features)\n",
    "    Q = X[(num_users * num_features):].reshape(num_products, num_features)\n",
    "    Q = Q.T\n",
    "\n",
    "    # Calculate current cost\n",
    "    return (np.sum(np.square(mask * (np.dot(P, Q) - ratings))) / 2) + ((regularization_amount / 2.0) * np.sum(np.square(Q.T))) + ((regularization_amount / 2.0) * np.sum(np.square(P)))\n",
    "\n",
    "\n",
    "def gradient(X, *args):\n",
    "    \"\"\"\n",
    "    Calculate the cost gradients with the current P and Q.\n",
    "    :param X: The matrices being factored (P and Q) rolled up as a contiguous array\n",
    "    :param args: Array containing (num_users, num_products, num_features, ratings, mask, regularization_amount)\n",
    "    :return: The gradient with the current X\n",
    "    \"\"\"\n",
    "    num_users, num_products, num_features, ratings, mask, regularization_amount = args\n",
    "\n",
    "    # Unroll P and Q\n",
    "    P = X[0:(num_users * num_features)].reshape(num_users, num_features)\n",
    "    Q = X[(num_users * num_features):].reshape(num_products, num_features)\n",
    "    Q = Q.T\n",
    "\n",
    "    # Calculate the current gradients for both P and Q\n",
    "    P_grad = np.dot((mask * (np.dot(P, Q) - ratings)), Q.T) + (regularization_amount * P)\n",
    "    Q_grad = np.dot((mask * (np.dot(P, Q) - ratings)).T, P) + (regularization_amount * Q.T)\n",
    "\n",
    "    # Return the gradients as one rolled-up array as expected by fmin_cg\n",
    "    return np.append(P_grad.ravel(), Q_grad.ravel())\n",
    "\n",
    "\n",
    "def low_rank_matrix_factorization(ratings, mask=None, num_features=15, regularization_amount=0.01):\n",
    "    \"\"\"\n",
    "    Factor a ratings array into two latent feature arrays (user features and product features)\n",
    "\n",
    "    :param ratings: Matrix with user ratings to factor\n",
    "    :param mask: A binary mask of which ratings are present in the ratings array to factor\n",
    "    :param num_features: Number of latent features to generate for users and products\n",
    "    :param regularization_amount: How much regularization to apply\n",
    "    :return: (P, Q) - the factored latent feature arrays\n",
    "    \"\"\"\n",
    "    num_users, num_products = ratings.shape\n",
    "\n",
    "    # If no mask is provided, consider all 'NaN' elements as missing and create a mask.\n",
    "    if mask is None:\n",
    "        mask = np.invert(np.isnan(ratings))\n",
    "\n",
    "    # Replace NaN values with zero\n",
    "    ratings = np.nan_to_num(ratings)\n",
    "\n",
    "    # Create P and Q and fill with random numbers to start\n",
    "    np.random.seed(0)\n",
    "    P = np.random.randn(num_users, num_features)\n",
    "    Q = np.random.randn(num_products, num_features)\n",
    "\n",
    "    # Roll up P and Q into a contiguous array as fmin_cg expects\n",
    "    initial = np.append(P.ravel(), Q.ravel())\n",
    "\n",
    "    # Create an args array as fmin_cg expects\n",
    "    args = (num_users, num_products, num_features, ratings, mask, regularization_amount)\n",
    "\n",
    "    # Call fmin_cg to minimize the cost function and this find the best values for P and Q\n",
    "    X = fmin_cg(cost, initial, fprime=gradient, args=args, maxiter=3000)\n",
    "\n",
    "    # Unroll the new P and new Q arrays out of the contiguous array returned by fmin_cg\n",
    "    nP = X[0:(num_users * num_features)].reshape(num_users, num_features)\n",
    "    nQ = X[(num_users * num_features):].reshape(num_products, num_features)\n",
    "\n",
    "    return nP, nQ.T\n",
    "\n",
    "\n",
    "def RMSE(real, predicted):\n",
    "    \"\"\"\n",
    "    Calculate the root mean squared error between a matrix of real ratings and predicted ratings\n",
    "    :param real: A matrix containing the real ratings (with 'NaN' for any missing elements)\n",
    "    :param predicted: A matrix of predictions\n",
    "    :return: The RMSE as a float\n",
    "    \"\"\"\n",
    "    return np.sqrt(np.nanmean(np.square(real - predicted)))"
   ]
  },
  {
   "cell_type": "code",
   "execution_count": 9,
   "metadata": {},
   "outputs": [
    {
     "name": "stderr",
     "output_type": "stream",
     "text": [
      "//anaconda3/lib/python3.7/site-packages/ipykernel_launcher.py:3: FutureWarning: Method .as_matrix will be removed in a future version. Use .values instead.\n",
      "  This is separate from the ipykernel package so we can avoid doing imports until\n"
     ]
    },
    {
     "name": "stdout",
     "output_type": "stream",
     "text": [
      "Warning: Maximum number of iterations has been exceeded.\n",
      "         Current function value: 32.504384\n",
      "         Iterations: 3000\n",
      "         Function evaluations: 4478\n",
      "         Gradient evaluations: 4478\n"
     ]
    }
   ],
   "source": [
    "ratings_df = pd.pivot_table(df, index='user_id', columns='movie_id',aggfunc=np.max)\n",
    "#Apply matrix factorization to find the latent features\n",
    "U, M = low_rank_matrix_factorization(ratings_df.as_matrix(), num_features=15, regularization_amount = 0.1)"
   ]
  },
  {
   "cell_type": "code",
   "execution_count": 10,
   "metadata": {},
   "outputs": [],
   "source": [
    "#Find all predicted ratings by multiplying the U by M\n",
    "predicted_ratings = np.matmul(U,M)"
   ]
  },
  {
   "cell_type": "code",
   "execution_count": 11,
   "metadata": {},
   "outputs": [],
   "source": [
    "import pickle\n",
    "#Save features and predicted ratings to files for later use\n",
    "pickle.dump(U, open(\"user_features.dat\", \"wb\"))\n",
    "pickle.dump(M, open(\"product_features.dat\", \"wb\"))\n",
    "pickle.dump(predicted_ratings, open(\"predicted_ratings.dat\", \"wb\" ))"
   ]
  },
  {
   "cell_type": "code",
   "execution_count": 12,
   "metadata": {},
   "outputs": [],
   "source": [
    "# Load prediction rules from data files\n",
    "U = pickle.load(open('user_features.dat','rb'))\n",
    "M = pickle.load(open('product_features.dat', 'rb'))\n",
    "predicted_ratings = pickle.load(open('predicted_ratings.dat','rb'))"
   ]
  },
  {
   "cell_type": "code",
   "execution_count": 13,
   "metadata": {},
   "outputs": [],
   "source": [
    "#Save all the ratings to a csv file\n",
    "predicted_ratings_df = pd.DataFrame(index=ratings_df.index, columns=ratings_df.columns, data=predicted_ratings)\n",
    "predicted_ratings_df.to_csv('predicted_rating.csv')"
   ]
  },
  {
   "cell_type": "code",
   "execution_count": 14,
   "metadata": {},
   "outputs": [],
   "source": [
    "# Find similar products\n",
    "M=np.transpose(M)"
   ]
  },
  {
   "cell_type": "code",
   "execution_count": 15,
   "metadata": {},
   "outputs": [],
   "source": [
    "#Choose a movie to find similar movies to. \n",
    "movie_id = 11"
   ]
  },
  {
   "cell_type": "code",
   "execution_count": 16,
   "metadata": {},
   "outputs": [],
   "source": [
    "#Get movie #1's name and genre\n",
    "movie_information = data_movie.loc[movie_id]"
   ]
  },
  {
   "cell_type": "code",
   "execution_count": 17,
   "metadata": {},
   "outputs": [
    {
     "data": {
      "text/plain": [
       "title           Inspector Jackson\n",
       "genre    detective drama, mystery\n",
       "Name: 11, dtype: object"
      ]
     },
     "execution_count": 17,
     "metadata": {},
     "output_type": "execute_result"
    }
   ],
   "source": [
    "movie_information"
   ]
  },
  {
   "cell_type": "code",
   "execution_count": 18,
   "metadata": {},
   "outputs": [
    {
     "data": {
      "text/plain": [
       "array([ 7.23185567e-01,  8.06454212e-03, -7.14222029e-01, -3.58564459e-01,\n",
       "       -9.85401253e-01, -1.83175760e+00, -1.97484877e-01, -3.87235907e-02,\n",
       "        5.82322997e-01,  5.64558472e-05, -1.79591901e-02, -4.28468038e-01,\n",
       "       -4.11725500e-01, -7.64708933e-01,  4.63513329e-01])"
      ]
     },
     "execution_count": 18,
     "metadata": {},
     "output_type": "execute_result"
    }
   ],
   "source": [
    "#Get the features for movie #1 we found via matrix factorization\n",
    "current_movie_feature = M[movie_id-1]\n",
    "current_movie_feature"
   ]
  },
  {
   "cell_type": "code",
   "execution_count": 19,
   "metadata": {},
   "outputs": [
    {
     "name": "stdout",
     "output_type": "stream",
     "text": [
      "The five most similar movies are:\n",
      "                             title  difference_score\n",
      "movie_id                                           \n",
      "11              Inspector Jackson          0.000000\n",
      "26              Mafia Underground          3.417996\n",
      "28                  The Sheriff 4          3.461559\n",
      "2            The Big City Judge 1          4.167416\n",
      "10        Surrounded by Zombies 1          4.310469\n"
     ]
    }
   ],
   "source": [
    "#The main logic for finding similar movies\n",
    "#1. Subtract the current movie's features from every other movie's features\n",
    "difference = M - current_movie_feature\n",
    "\n",
    "#2. Take the absolute value of that difference (so all numbsers are positive)\n",
    "absolute_diffenrence = np.abs(difference)\n",
    "\n",
    "#3. Each movie has 15 features. Sum those 15 features to get a total 'diffenrence score' for each movie\n",
    "total_difference = np.sum(absolute_diffenrence, axis=1)\n",
    "\n",
    "#4. Create a new column in the movie list with the diffenrece score for each movie\n",
    "data_movie['difference_score'] = total_difference\n",
    "\n",
    "#5. Sort the movie list by difference score, from least to most\n",
    "sorted_movie_list = data_movie.sort_values('difference_score')\n",
    "\n",
    "#6. Print the result, show the 5 most similar movies to movie #1\n",
    "print(\"The five most similar movies are:\\n\", sorted_movie_list[['title','difference_score']][:5])\n"
   ]
  },
  {
   "cell_type": "code",
   "execution_count": 20,
   "metadata": {},
   "outputs": [
    {
     "name": "stdout",
     "output_type": "stream",
     "text": [
      "Enter a user_id to get recommendations (Between 1 and 100):\n",
      "70\n"
     ]
    }
   ],
   "source": [
    "# Make recommendations\n",
    "print('Enter a user_id to get recommendations (Between 1 and 100):')\n",
    "user_id_to_search = int(input())"
   ]
  },
  {
   "cell_type": "code",
   "execution_count": 21,
   "metadata": {},
   "outputs": [
    {
     "name": "stdout",
     "output_type": "stream",
     "text": [
      "Movies previously reviewed by user_id 70: \n"
     ]
    }
   ],
   "source": [
    "print(\"Movies previously reviewed by user_id {}: \".format(user_id_to_search))"
   ]
  },
  {
   "cell_type": "code",
   "execution_count": 22,
   "metadata": {},
   "outputs": [],
   "source": [
    "reviewed_movies_df = df[df['user_id'] == user_id_to_search]\n",
    "reviewed_movies_df = reviewed_movies_df.join(data_movie, on='movie_id')"
   ]
  },
  {
   "cell_type": "code",
   "execution_count": 23,
   "metadata": {},
   "outputs": [
    {
     "data": {
      "text/html": [
       "<div>\n",
       "<style scoped>\n",
       "    .dataframe tbody tr th:only-of-type {\n",
       "        vertical-align: middle;\n",
       "    }\n",
       "\n",
       "    .dataframe tbody tr th {\n",
       "        vertical-align: top;\n",
       "    }\n",
       "\n",
       "    .dataframe thead th {\n",
       "        text-align: right;\n",
       "    }\n",
       "</style>\n",
       "<table border=\"1\" class=\"dataframe\">\n",
       "  <thead>\n",
       "    <tr style=\"text-align: right;\">\n",
       "      <th></th>\n",
       "      <th>user_id</th>\n",
       "      <th>movie_id</th>\n",
       "      <th>value</th>\n",
       "      <th>title</th>\n",
       "      <th>genre</th>\n",
       "      <th>difference_score</th>\n",
       "    </tr>\n",
       "  </thead>\n",
       "  <tbody>\n",
       "    <tr>\n",
       "      <th>469</th>\n",
       "      <td>70</td>\n",
       "      <td>17</td>\n",
       "      <td>3</td>\n",
       "      <td>Singing Telegram</td>\n",
       "      <td>musical, comedy</td>\n",
       "      <td>9.204921</td>\n",
       "    </tr>\n",
       "    <tr>\n",
       "      <th>470</th>\n",
       "      <td>70</td>\n",
       "      <td>18</td>\n",
       "      <td>4</td>\n",
       "      <td>Bad Teachers</td>\n",
       "      <td>comedy</td>\n",
       "      <td>8.426812</td>\n",
       "    </tr>\n",
       "    <tr>\n",
       "      <th>471</th>\n",
       "      <td>70</td>\n",
       "      <td>21</td>\n",
       "      <td>4</td>\n",
       "      <td>Political Gaffs</td>\n",
       "      <td>comedy, political satire</td>\n",
       "      <td>8.531738</td>\n",
       "    </tr>\n",
       "    <tr>\n",
       "      <th>472</th>\n",
       "      <td>70</td>\n",
       "      <td>34</td>\n",
       "      <td>5</td>\n",
       "      <td>The Serious Detective</td>\n",
       "      <td>detective drama</td>\n",
       "      <td>8.057612</td>\n",
       "    </tr>\n",
       "    <tr>\n",
       "      <th>473</th>\n",
       "      <td>70</td>\n",
       "      <td>19</td>\n",
       "      <td>5</td>\n",
       "      <td>Fake News about Fake News</td>\n",
       "      <td>satire, comedy</td>\n",
       "      <td>7.480958</td>\n",
       "    </tr>\n",
       "    <tr>\n",
       "      <th>474</th>\n",
       "      <td>70</td>\n",
       "      <td>30</td>\n",
       "      <td>5</td>\n",
       "      <td>Post-Apocalyptia 2</td>\n",
       "      <td>sci-fi, thriller, mystery</td>\n",
       "      <td>9.520933</td>\n",
       "    </tr>\n",
       "    <tr>\n",
       "      <th>475</th>\n",
       "      <td>70</td>\n",
       "      <td>33</td>\n",
       "      <td>3</td>\n",
       "      <td>Sports Nerds</td>\n",
       "      <td>comedy</td>\n",
       "      <td>10.313175</td>\n",
       "    </tr>\n",
       "    <tr>\n",
       "      <th>476</th>\n",
       "      <td>70</td>\n",
       "      <td>20</td>\n",
       "      <td>4</td>\n",
       "      <td>Buy My App</td>\n",
       "      <td>comedy</td>\n",
       "      <td>8.760210</td>\n",
       "    </tr>\n",
       "    <tr>\n",
       "      <th>477</th>\n",
       "      <td>70</td>\n",
       "      <td>32</td>\n",
       "      <td>4</td>\n",
       "      <td>Behind the Scenes</td>\n",
       "      <td>comedy-drama</td>\n",
       "      <td>10.238354</td>\n",
       "    </tr>\n",
       "    <tr>\n",
       "      <th>478</th>\n",
       "      <td>70</td>\n",
       "      <td>31</td>\n",
       "      <td>4</td>\n",
       "      <td>My Complicated Family</td>\n",
       "      <td>comedy-drama</td>\n",
       "      <td>10.856260</td>\n",
       "    </tr>\n",
       "  </tbody>\n",
       "</table>\n",
       "</div>"
      ],
      "text/plain": [
       "     user_id  movie_id  value                      title  \\\n",
       "469       70        17      3           Singing Telegram   \n",
       "470       70        18      4               Bad Teachers   \n",
       "471       70        21      4            Political Gaffs   \n",
       "472       70        34      5      The Serious Detective   \n",
       "473       70        19      5  Fake News about Fake News   \n",
       "474       70        30      5         Post-Apocalyptia 2   \n",
       "475       70        33      3               Sports Nerds   \n",
       "476       70        20      4                 Buy My App   \n",
       "477       70        32      4          Behind the Scenes   \n",
       "478       70        31      4      My Complicated Family   \n",
       "\n",
       "                         genre  difference_score  \n",
       "469            musical, comedy          9.204921  \n",
       "470                     comedy          8.426812  \n",
       "471   comedy, political satire          8.531738  \n",
       "472            detective drama          8.057612  \n",
       "473             satire, comedy          7.480958  \n",
       "474  sci-fi, thriller, mystery          9.520933  \n",
       "475                     comedy         10.313175  \n",
       "476                     comedy          8.760210  \n",
       "477               comedy-drama         10.238354  \n",
       "478               comedy-drama         10.856260  "
      ]
     },
     "execution_count": 23,
     "metadata": {},
     "output_type": "execute_result"
    }
   ],
   "source": [
    "reviewed_movies_df"
   ]
  },
  {
   "cell_type": "code",
   "execution_count": 24,
   "metadata": {},
   "outputs": [
    {
     "name": "stdout",
     "output_type": "stream",
     "text": [
      "Press enter to continue: 8\n",
      "Movies we will recommend:\n"
     ]
    }
   ],
   "source": [
    "input('Press enter to continue: ')\n",
    "print('Movies we will recommend:')\n",
    "user_ratings = predicted_ratings[user_id_to_search - 1]\n",
    "data_movie['rating'] = user_ratings"
   ]
  },
  {
   "cell_type": "code",
   "execution_count": 25,
   "metadata": {},
   "outputs": [
    {
     "name": "stdout",
     "output_type": "stream",
     "text": [
      "                               title                  genre    rating\n",
      "movie_id                                                             \n",
      "13                     The Sheriff 3   crime drama, western  5.179073\n",
      "6                  Attack on Earth 1         sci-fi, action  4.537884\n",
      "2               The Big City Judge 1            legal drama  4.493388\n",
      "15        We Will Fight Those Aliens         sci-fi, action  4.280675\n",
      "8           Sci-Fi Murder Detectives  supernatural, mystery  4.264366\n"
     ]
    }
   ],
   "source": [
    "already_reviewed = reviewed_movies_df['movie_id']\n",
    "recommended_df = data_movie[data_movie.index.isin(already_reviewed) == False]\n",
    "recommended_df = recommended_df.sort_values(by = ['rating'], ascending = False)\n",
    "print(recommended_df[['title', 'genre', 'rating']].head(5))"
   ]
  },
  {
   "cell_type": "code",
   "execution_count": 26,
   "metadata": {},
   "outputs": [],
   "source": [
    "#Evaluate the model\n",
    "#Load user ratings for training and testing\n",
    "raw_training_dataset_df = pd.read_csv('movie_ratings_data_set_training.csv')\n",
    "raw_testing_dataset_df = pd.read_csv('movie_ratings_data_set_testing.csv')"
   ]
  },
  {
   "cell_type": "code",
   "execution_count": 27,
   "metadata": {},
   "outputs": [],
   "source": [
    "#Convert the running list of user ratings into a matrix\n",
    "ratings_training_df = pd.pivot_table(raw_training_dataset_df, index = 'user_id', columns = 'movie_id', aggfunc=np.max)\n",
    "ratings_testing_df = pd.pivot_table(raw_testing_dataset_df, index = 'user_id', columns = 'movie_id', aggfunc=np.max)"
   ]
  },
  {
   "cell_type": "code",
   "execution_count": 28,
   "metadata": {},
   "outputs": [
    {
     "name": "stderr",
     "output_type": "stream",
     "text": [
      "//anaconda3/lib/python3.7/site-packages/ipykernel_launcher.py:2: FutureWarning: Method .as_matrix will be removed in a future version. Use .values instead.\n",
      "  \n"
     ]
    },
    {
     "name": "stdout",
     "output_type": "stream",
     "text": [
      "Optimization terminated successfully.\n",
      "         Current function value: 315.538580\n",
      "         Iterations: 697\n",
      "         Function evaluations: 1061\n",
      "         Gradient evaluations: 1061\n"
     ]
    }
   ],
   "source": [
    "#Apply matrix factorization to find the latent features\n",
    "U, M = low_rank_matrix_factorization(ratings_training_df.as_matrix(), num_features=15, regularization_amount = 1.1)"
   ]
  },
  {
   "cell_type": "code",
   "execution_count": 29,
   "metadata": {},
   "outputs": [],
   "source": [
    "predicted_ratings = np.matmul(U,M)"
   ]
  },
  {
   "cell_type": "code",
   "execution_count": 30,
   "metadata": {},
   "outputs": [
    {
     "name": "stdout",
     "output_type": "stream",
     "text": [
      "Trainning RMSE: 0.2495257852238146\n",
      "Testing RMSE: 1.2096525213412235\n"
     ]
    },
    {
     "name": "stderr",
     "output_type": "stream",
     "text": [
      "//anaconda3/lib/python3.7/site-packages/ipykernel_launcher.py:2: FutureWarning: Method .as_matrix will be removed in a future version. Use .values instead.\n",
      "  \n",
      "//anaconda3/lib/python3.7/site-packages/ipykernel_launcher.py:3: FutureWarning: Method .as_matrix will be removed in a future version. Use .values instead.\n",
      "  This is separate from the ipykernel package so we can avoid doing imports until\n"
     ]
    }
   ],
   "source": [
    "#Measure RMSE\n",
    "rmse_training = RMSE(ratings_training_df.as_matrix(), predicted_ratings)\n",
    "rmse_testing = RMSE(ratings_testing_df.as_matrix(), predicted_ratings)\n",
    "print('Trainning RMSE: {}'.format(rmse_training))\n",
    "print('Testing RMSE: {}'.format(rmse_testing))\n"
   ]
  },
  {
   "cell_type": "markdown",
   "metadata": {},
   "source": [
    "We can increase the regularization term to mitigate overfitting, but the tradeoff will be the training RMSE may increase. In this example, the best way is to increase training dataset, users' ratings."
   ]
  },
  {
   "cell_type": "code",
   "execution_count": 32,
   "metadata": {},
   "outputs": [
    {
     "name": "stderr",
     "output_type": "stream",
     "text": [
      "//anaconda3/lib/python3.7/site-packages/ipykernel_launcher.py:3: FutureWarning: Method .as_matrix will be removed in a future version. Use .values instead.\n",
      "  This is separate from the ipykernel package so we can avoid doing imports until\n"
     ]
    },
    {
     "name": "stdout",
     "output_type": "stream",
     "text": [
      "Optimization terminated successfully.\n",
      "         Current function value: 10.943926\n",
      "         Iterations: 1877\n",
      "         Function evaluations: 2787\n",
      "         Gradient evaluations: 2787\n"
     ]
    }
   ],
   "source": [
    "#Handle new users\n",
    "#Normalize the ratings \n",
    "normalized_ratings, means = normalize_ratings(ratings_df.as_matrix())\n",
    "#Apply matrix factorization to find the latent features\n",
    "U, M = low_rank_matrix_factorization(normalized_ratings, num_features=15, regularization_amount = 0.1)"
   ]
  },
  {
   "cell_type": "code",
   "execution_count": 33,
   "metadata": {},
   "outputs": [],
   "source": [
    "#Find all predicted ratings by multiplying U and M\n",
    "predicted_ratings = np.matmul(U,M)\n",
    "#Save a copy of the means \n",
    "pickle.dump(means, open('means.dat','wb'))"
   ]
  },
  {
   "cell_type": "code",
   "execution_count": 36,
   "metadata": {},
   "outputs": [
    {
     "name": "stdout",
     "output_type": "stream",
     "text": [
      "Movies we will recommend:\n",
      "                              title                      genre    rating\n",
      "movie_id                                                                \n",
      "13                    The Sheriff 3       crime drama, western  5.179073\n",
      "34            The Serious Detective            detective drama  4.995147\n",
      "30               Post-Apocalyptia 2  sci-fi, thriller, mystery  4.973627\n",
      "19        Fake News about Fake News             satire, comedy  4.955316\n",
      "6                 Attack on Earth 1             sci-fi, action  4.537884\n"
     ]
    }
   ],
   "source": [
    "#Predict movies for new users\n",
    "#Load prediction rules from data files\n",
    "mean = pickle.load(open('means.dat','rb'))\n",
    "#Use the average movie ratings directly as the user's predicted ratings\n",
    "user_rating = means\n",
    "print('Movies we will recommend:')\n",
    "data_movie['rating'] = user_ratings\n",
    "data_movie = data_movie.sort_values(by=['rating'], ascending = False)\n",
    "print(data_movie[['title','genre','rating']].head(5))"
   ]
  },
  {
   "cell_type": "markdown",
   "metadata": {},
   "source": [
    "The idea is to recommend the most popular movies to new users."
   ]
  },
  {
   "cell_type": "code",
   "execution_count": null,
   "metadata": {},
   "outputs": [],
   "source": []
  }
 ],
 "metadata": {
  "kernelspec": {
   "display_name": "Python 3",
   "language": "python",
   "name": "python3"
  },
  "language_info": {
   "codemirror_mode": {
    "name": "ipython",
    "version": 3
   },
   "file_extension": ".py",
   "mimetype": "text/x-python",
   "name": "python",
   "nbconvert_exporter": "python",
   "pygments_lexer": "ipython3",
   "version": "3.7.3"
  }
 },
 "nbformat": 4,
 "nbformat_minor": 2
}
